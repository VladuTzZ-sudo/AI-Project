{
 "cells": [
  {
   "cell_type": "code",
   "execution_count": 8,
   "id": "ab806ddf",
   "metadata": {},
   "outputs": [
    {
     "name": "stdout",
     "output_type": "stream",
     "text": [
      "Requirement already satisfied: importlib-resources in c:\\python310\\lib\\site-packages (5.10.0)\n",
      "Note: you may need to restart the kernel to use updated packages.\n"
     ]
    }
   ],
   "source": [
    "pip install importlib-resources"
   ]
  },
  {
   "cell_type": "code",
   "execution_count": 8,
   "id": "91f3ab44",
   "metadata": {},
   "outputs": [
    {
     "name": "stdout",
     "output_type": "stream",
     "text": [
      "Collecting resources\n",
      "  Using cached resources-0.0.1.tar.gz (3.7 kB)\n",
      "  Preparing metadata (setup.py): started\n",
      "  Preparing metadata (setup.py): finished with status 'done'\n",
      "Installing collected packages: resources\n",
      "  Running setup.py install for resources: started\n",
      "  Running setup.py install for resources: finished with status 'done'\n",
      "Successfully installed resources-0.0.1\n",
      "Note: you may need to restart the kernel to use updated packages.\n"
     ]
    },
    {
     "name": "stderr",
     "output_type": "stream",
     "text": [
      "  DEPRECATION: resources is being installed using the legacy 'setup.py install' method, because it does not have a 'pyproject.toml' and the 'wheel' package is not installed. pip 23.1 will enforce this behaviour change. A possible replacement is to enable the '--use-pep517' option. Discussion can be found at https://github.com/pypa/pip/issues/8559\n"
     ]
    }
   ],
   "source": [
    "pip install resources"
   ]
  },
  {
   "cell_type": "code",
   "execution_count": 17,
   "id": "508ce701",
   "metadata": {
    "scrolled": true
   },
   "outputs": [],
   "source": [
    "import importlib_resources"
   ]
  },
  {
   "cell_type": "code",
   "execution_count": 30,
   "id": "b9899c6a",
   "metadata": {},
   "outputs": [
    {
     "ename": "ModuleNotFoundError",
     "evalue": "No module named 'resource'",
     "output_type": "error",
     "traceback": [
      "\u001b[1;31m---------------------------------------------------------------------------\u001b[0m",
      "\u001b[1;31mModuleNotFoundError\u001b[0m                       Traceback (most recent call last)",
      "Cell \u001b[1;32mIn [30], line 5\u001b[0m\n\u001b[0;32m      3\u001b[0m \u001b[38;5;28;01mfrom\u001b[39;00m \u001b[38;5;21;01mcopy\u001b[39;00m \u001b[38;5;28;01mimport\u001b[39;00m copy\n\u001b[0;32m      4\u001b[0m \u001b[38;5;28;01mfrom\u001b[39;00m \u001b[38;5;21;01mbuiltins\u001b[39;00m \u001b[38;5;28;01mimport\u001b[39;00m \u001b[38;5;28misinstance\u001b[39m\n\u001b[1;32m----> 5\u001b[0m \u001b[38;5;28;01mfrom\u001b[39;00m \u001b[38;5;21;01mresource\u001b[39;00m \u001b[38;5;28;01mimport\u001b[39;00m setrlimit, RLIMIT_AS, RLIMIT_DATA\n\u001b[0;32m      8\u001b[0m \u001b[38;5;28;01mclass\u001b[39;00m \u001b[38;5;21;01mNPuzzle\u001b[39;00m:\n\u001b[0;32m      9\u001b[0m     \u001b[38;5;124;03m\"\"\"\u001b[39;00m\n\u001b[0;32m     10\u001b[0m \u001b[38;5;124;03m    Reprezentarea unei stări a problemei și a istoriei mutărilor care au adus starea aici.\u001b[39;00m\n\u001b[0;32m     11\u001b[0m \u001b[38;5;124;03m    \u001b[39;00m\n\u001b[1;32m   (...)\u001b[0m\n\u001b[0;32m     17\u001b[0m \u001b[38;5;124;03m    - verificarea dacă o listă de mutări fac ca această stare să devină rezolvată.\u001b[39;00m\n\u001b[0;32m     18\u001b[0m \u001b[38;5;124;03m    \"\"\"\u001b[39;00m\n",
      "\u001b[1;31mModuleNotFoundError\u001b[0m: No module named 'resource'"
     ]
    }
   ],
   "source": [
    "import random, math, importlib_resources\n",
    "from _functools import reduce\n",
    "from copy import copy\n",
    "from builtins import isinstance\n",
    "from resource import setrlimit, RLIMIT_AS, RLIMIT_DATA\n",
    "\n",
    "\n",
    "class NPuzzle:\n",
    "    \"\"\"\n",
    "    Reprezentarea unei stări a problemei și a istoriei mutărilor care au adus starea aici.\n",
    "    \n",
    "    Conține funcționalitate pentru\n",
    "    - afișare\n",
    "    - citirea unei stări dintr-o intrare pe o linie de text\n",
    "    - obținerea sau ștergerea istoriei de mutări\n",
    "    - obținerea variantei rezolvate a acestei probleme\n",
    "    - verificarea dacă o listă de mutări fac ca această stare să devină rezolvată.\n",
    "    \"\"\"\n",
    "\n",
    "    NMOVES = 4\n",
    "    UP, DOWN, LEFT, RIGHT = range(NMOVES)\n",
    "    ACTIONS = [UP, DOWN, LEFT, RIGHT]\n",
    "    names = \"UP, DOWN, LEFT, RIGHT\".split(\", \")\n",
    "    BLANK = ' '\n",
    "    delta = dict(zip(ACTIONS, [(-1, 0), (1, 0), (0, -1), (0, 1)]))\n",
    "    \n",
    "    PAD = 2\n",
    "    \n",
    "    def __init__(self, puzzle : list[int | str], movesList : list[int] = []):\n",
    "        \"\"\"\n",
    "        Creează o stare nouă pe baza unei liste liniare de piese, care se copiază.\n",
    "        \n",
    "        Opțional, se poate copia și lista de mutări dată.\n",
    "        \"\"\"\n",
    "        self.N = len(puzzle)\n",
    "        self.side = int(math.sqrt(self.N))\n",
    "        self.r = copy(puzzle)\n",
    "        self.moves = copy(movesList)\n",
    "\n",
    "    def display(self, show = True) -> str:\n",
    "        l = \"-\" * ((NPuzzle.PAD + 1) * self.side + 1)\n",
    "        aslist = self.r\n",
    "        \n",
    "        slices = [aslist[ slice * self.side : (slice+1) * self.side ]  for slice in range(self.side)]\n",
    "        s = ' |\\n| '.join([' '.join([str(e).rjust(NPuzzle.PAD, ' ') for e in line]) for line in slices]) \n",
    "\n",
    "        s = ' ' + l + '\\n| ' + s + ' |\\n ' + l\n",
    "        if show: print(s)\n",
    "        return s\n",
    "    def display_moves(self):\n",
    "        print([names[a] if a is not None else None for a in moves])\n",
    "        \n",
    "    def print_line(self):\n",
    "        return str(self.r)\n",
    "\n",
    "    @staticmethod\n",
    "    def read_from_line(line : str):\n",
    "        list = line.strip('\\n][').split(', ')\n",
    "        numeric = [NPuzzle.BLANK if e == \"' '\" else int(e) for e in list]\n",
    "        return NPuzzle(numeric)\n",
    "\n",
    "    def clear_moves(self):\n",
    "        \"\"\"Șterge istoria mutărilor pentru această stare.\"\"\"\n",
    "        self.moves.clear()\n",
    "\n",
    "    def apply_move_inplace(self, move : int):\n",
    "        \"\"\"Aplică o mutare, modificând această stare.\"\"\"\n",
    "        blankpos = self.r.index(NPuzzle.BLANK)\n",
    "        y, x = blankpos // self.side, blankpos % self.side\n",
    "        ny, nx = y + NPuzzle.delta[move][0], x + NPuzzle.delta[move][1]\n",
    "        if ny < 0 or ny >= self.side or nx < 0 or nx >= self.side: return None\n",
    "        newpos = ny * self.side + nx\n",
    "        piece = self.r[newpos]\n",
    "        self.r[blankpos] = piece\n",
    "        self.r[newpos] = NPuzzle.BLANK\n",
    "        self.moves.append(move)\n",
    "        return self\n",
    "\n",
    "    def apply_move(self, move : int):\n",
    "        \"\"\"Construiește o nouă stare, rezultată în urma aplicării mutării date.\"\"\"\n",
    "        return self.clone().apply_move_inplace(move)\n",
    "\n",
    "    def solved(self):\n",
    "        \"\"\"Întoarce varianta rezolvată a unei probleme de aceeași dimensiune.\"\"\"\n",
    "        return NPuzzle(list(range(self.N))[1:] + [NPuzzle.BLANK])\n",
    "\n",
    "    def verify_solved(self, moves : list[int]) -> bool:\n",
    "        \"\"\"\"Verifică dacă aplicarea mutărilor date pe starea curentă duce la soluție\"\"\"\n",
    "        return reduce(lambda s, m: s.apply_move_inplace(m), moves, self.clone()) == self.solved()\n",
    "\n",
    "    def clone(self):\n",
    "        return NPuzzle(self.r, self.moves)\n",
    "    def __str__(self) -> str:\n",
    "        return str(self.N-1) + \"-puzzle:\" + str(self.r)\n",
    "    def __repr__(self) -> str: return str(self)\n",
    "    def __eq__(self, other):\n",
    "        return self.r == other.r\n",
    "    def __lt__(self, other):\n",
    "        return True\n",
    "    def __hash__(self):\n",
    "        return hash(tuple(self.r))\n",
    "\n",
    "\n",
    "MLIMIT = 3 * 10 ** 9 # 2 GB RAM limit\n",
    "setrlimit(RLIMIT_DATA, (MLIMIT, MLIMIT))\n",
    "\n",
    "f = open(\"files/problems4.txt\", \"r\")\n",
    "input = f.readlines()\n",
    "f.close()\n",
    "problems = [NPuzzle.read_from_line(line) for line in input]\n",
    "problems[0].display()\n",
    "\n"
   ]
  }
 ],
 "metadata": {
  "kernelspec": {
   "display_name": "Python 3 (ipykernel)",
   "language": "python",
   "name": "python3"
  },
  "language_info": {
   "codemirror_mode": {
    "name": "ipython",
    "version": 3
   },
   "file_extension": ".py",
   "mimetype": "text/x-python",
   "name": "python",
   "nbconvert_exporter": "python",
   "pygments_lexer": "ipython3",
   "version": "3.10.8"
  }
 },
 "nbformat": 4,
 "nbformat_minor": 5
}
